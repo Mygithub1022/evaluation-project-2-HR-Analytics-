{
 "cells": [
  {
   "cell_type": "code",
   "execution_count": 1,
   "metadata": {},
   "outputs": [],
   "source": [
    "#import all libraries\n",
    "import pandas as pd\n",
    "import numpy as np\n",
    "import matplotlib.pyplot as plt\n",
    "import seaborn as sns\n",
    "import warnings\n",
    "warnings.filterwarnings('ignore')"
   ]
  },
  {
   "cell_type": "code",
   "execution_count": null,
   "metadata": {},
   "outputs": [],
   "source": [
    "#load the following packages\n",
    "library(tidyquant)  # loads tidyverse and several other pkgs\n",
    "library(readxl)     # super simple excel reader\n",
    "library(h2o)        # professional grade ML pkg\n",
    "library(lime)       # Explain complex black-box ML models"
   ]
  },
  {
   "cell_type": "code",
   "execution_count": null,
   "metadata": {},
   "outputs": [],
   "source": [
    "#read excel data\n",
    "hr_data_raw <- read_excel(path = \"data/WA_Fn-UseC_-HR_Employee-Attrition.xlsx\")"
   ]
  },
  {
   "cell_type": "code",
   "execution_count": null,
   "metadata": {},
   "outputs": [],
   "source": [
    "#view first 10 rows\n",
    "hr_data_raw[1:10,] %>%\n",
    "    knitr::kable(caption = \"first 10 rows\")"
   ]
  },
  {
   "cell_type": "code",
   "execution_count": null,
   "metadata": {},
   "outputs": [],
   "source": [
    "hr_data = hr_data_raw %>%\n",
    "   mutate_if(is.character, as.factor) %>%\n",
    "    select(Attrition, everything())"
   ]
  },
  {
   "cell_type": "code",
   "execution_count": null,
   "metadata": {},
   "outputs": [],
   "source": [
    "glimpse(hr_data)"
   ]
  },
  {
   "cell_type": "code",
   "execution_count": null,
   "metadata": {},
   "outputs": [],
   "source": [
    "#initialize H20 JVM\n",
    "h2o.init()"
   ]
  },
  {
   "cell_type": "code",
   "execution_count": null,
   "metadata": {},
   "outputs": [],
   "source": [
    "h2o.no_progress()  #turn off output of progress bars"
   ]
  },
  {
   "cell_type": "code",
   "execution_count": null,
   "metadata": {},
   "outputs": [],
   "source": [
    "#split data into train/validation/test sets\n",
    "hr_data_h2o = as.h2o(hr_data)\n",
    "\n",
    "split_h2o = h2o.splitframe(hr_data_h2o, c(0.7, 0.15), seed = 1234)\n",
    "\n",
    "train_h2o = h2o.assign(split_h2o[[1]], \"train\")\n",
    "valid_h2o = h2o.assign(split_h2o[[2]], \"valid\")\n",
    "test_h2o  = h2o.assign(split_h2o[[3]], \"test\")"
   ]
  },
  {
   "cell_type": "code",
   "execution_count": null,
   "metadata": {},
   "outputs": [],
   "source": [
    "#set names for h2o\n",
    "y = \"Attrition\"\n",
    "x = setdiff(names(train_h2o), y)"
   ]
  },
  {
   "cell_type": "code",
   "execution_count": null,
   "metadata": {},
   "outputs": [],
   "source": [
    "# raun the automated machine learning\n",
    "automl_models_h2o = h2o.automl(\n",
    "     x = x\n",
    "     y = y\n",
    "    training_frame = train_h2o,\n",
    "    leaderboard_frame = valid_h2o,\n",
    "    max_runtime_secs = 30\n",
    ")"
   ]
  },
  {
   "cell_type": "code",
   "execution_count": null,
   "metadata": {},
   "outputs": [],
   "source": [
    "#extract leader model\n",
    "automl_leader = automl_models_h2o@leader"
   ]
  },
  {
   "cell_type": "code",
   "execution_count": null,
   "metadata": {},
   "outputs": [],
   "source": [
    "#predict on hold-out set, test h2o\n",
    "pred_h2o = h2o.predict(object = automl_leader, newdata = test_h2o)"
   ]
  },
  {
   "cell_type": "code",
   "execution_count": null,
   "metadata": {},
   "outputs": [],
   "source": [
    "#prep for performance assessment\n",
    "test_performance = test_h2o %>%\n",
    "    tibble::as_tibble() %>%\n",
    "    select(Attrition) %>%\n",
    "    add_column(pred = as.vector(pred_h2o$predict)) %>%\n",
    "    mutate_if(is.character, as.factor)\n",
    "test_performance"
   ]
  },
  {
   "cell_type": "code",
   "execution_count": null,
   "metadata": {},
   "outputs": [],
   "source": [
    "#confusion table counts\n",
    "confusion_matrix = test_performance %>%\n",
    "     table()\n",
    "confusion_matrix    "
   ]
  },
  {
   "cell_type": "code",
   "execution_count": null,
   "metadata": {},
   "outputs": [],
   "source": [
    "#performance analysis\n",
    "tn = confusion_matrix[1]\n",
    "tp = confusion_matrix[4]\n",
    "fp = confusion_matrix[3]\n",
    "fn = confusion_matrix[2]\n",
    "\n",
    "accuracy = (tp + tn) / (tp + tn + fp +fn)\n",
    "misclassfication_rate = 1 -accuracy\n",
    "recall = tp / (tp + fn)\n",
    "precision = tp / (tp + fp)\n",
    "null_error_rate = tn / (tp + tn + fp + fn)\n",
    "\n",
    "tibble{\n",
    "    accuracy,\n",
    "    misclassifcation_rate,\n",
    "    recall,\n",
    "    precision,\n",
    "    null_error_rate\n",
    "} %>%\n",
    "    transpose()"
   ]
  },
  {
   "cell_type": "code",
   "execution_count": null,
   "metadata": {},
   "outputs": [],
   "source": [
    "class(automl_leader)"
   ]
  },
  {
   "cell_type": "code",
   "execution_count": null,
   "metadata": {},
   "outputs": [],
   "source": [
    "# setup lime:: model_type() function for h2o\n",
    "model_type.H2OBinomialModel = function(x, ...) {\n",
    "    \n",
    "    return(\"Classification\")\n",
    "}"
   ]
  },
  {
   "cell_type": "code",
   "execution_count": null,
   "metadata": {},
   "outputs": [],
   "source": [
    "predict_model.H2OBinomialModel = function(x, newdata, type, ...) {\n",
    " pred = h2o.predict(x, as.h2o(newdata))\n",
    "    #retun probs\n",
    "    retun(as.data.frame(pred[,-1])\n",
    " }"
   ]
  },
  {
   "cell_type": "code",
   "execution_count": null,
   "metadata": {},
   "outputs": [],
   "source": [
    "#test the predict_model function\n",
    "predict_model(x = automl_leader, newdata = as.data.frame(test_h2o[,-1]), type = 'raw') %>%\n",
    "   tibble::as_tibble()"
   ]
  },
  {
   "cell_type": "code",
   "execution_count": null,
   "metadata": {},
   "outputs": [],
   "source": [
    "#run lime() on training set\n",
    "explainer = lime::lime(\n",
    "   as.data.frame(train_h2o[,-1]),\n",
    "   model - automl_leader,\n",
    "   bin_continous=FALSE)"
   ]
  },
  {
   "cell_type": "code",
   "execution_count": null,
   "metadata": {},
   "outputs": [],
   "source": [
    "#Run expalin() on explainer\n",
    "explination = lime::explain(\n",
    "   as.data.frame(test_h2o[1:10:-1]),\n",
    "   explainer = explainer,\n",
    "   n_labels = 1,\n",
    "   n_features = 4,\n",
    "   kernel_width = 0.5\n",
    ")"
   ]
  },
  {
   "cell_type": "code",
   "execution_count": null,
   "metadata": {},
   "outputs": [],
   "source": [
    "#focus on critical features of attrition\n",
    "attrition_critical_features = hr_data %>%\n",
    "    tibble::as_tibble() %>%\n",
    "    select(Attrition, TrainingsTimeLastYear, JobRole, OverTime) %>%\n",
    "    rowid_to_column(var = \"case\")\n",
    "attrition_critical_features"
   ]
  }
 ],
 "metadata": {
  "kernelspec": {
   "display_name": "Python 3",
   "language": "python",
   "name": "python3"
  },
  "language_info": {
   "codemirror_mode": {
    "name": "ipython",
    "version": 3
   },
   "file_extension": ".py",
   "mimetype": "text/x-python",
   "name": "python",
   "nbconvert_exporter": "python",
   "pygments_lexer": "ipython3",
   "version": "3.8.5"
  }
 },
 "nbformat": 4,
 "nbformat_minor": 4
}
